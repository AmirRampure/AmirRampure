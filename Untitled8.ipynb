{
 "cells": [
  {
   "cell_type": "code",
   "execution_count": 2,
   "id": "30fe2c6d-bbef-457e-bdc6-147206e94a5b",
   "metadata": {},
   "outputs": [],
   "source": [
    "s = \"this is My First Python programming class and i am learNING python string and its function\""
   ]
  },
  {
   "cell_type": "code",
   "execution_count": 4,
   "id": "890f13c0-e950-45c9-9931-9214fd0d844d",
   "metadata": {},
   "outputs": [
    {
     "data": {
      "text/plain": [
       "'h   r tnrrmglsnimeNGyosi dtfco'"
      ]
     },
     "execution_count": 4,
     "metadata": {},
     "output_type": "execute_result"
    }
   ],
   "source": [
    "s[1:300:3]"
   ]
  },
  {
   "cell_type": "code",
   "execution_count": 5,
   "id": "69227d2c-c51b-43e8-a178-ca5315f1d8f4",
   "metadata": {},
   "outputs": [],
   "source": [
    "s1 = \"We are learning problem solving using computation\""
   ]
  },
  {
   "cell_type": "code",
   "execution_count": 6,
   "id": "42a6a528-c8bd-4473-8e17-2c0e7a73735b",
   "metadata": {},
   "outputs": [
    {
     "data": {
      "text/plain": [
       "'eaela'"
      ]
     },
     "execution_count": 6,
     "metadata": {},
     "output_type": "execute_result"
    }
   ],
   "source": [
    "#Extract data from 1 to 10 with a jump of 2\n",
    "s1[1:11:2]"
   ]
  },
  {
   "cell_type": "code",
   "execution_count": 8,
   "id": "947d8b96-45a9-482b-ba7b-737c9b26f85b",
   "metadata": {},
   "outputs": [
    {
     "data": {
      "text/plain": [
       "'noitcnuf sti dna gnirts nohtyp GNINrael ma i dna ssalc gnimmargorp nohtyP tsriF yM si siht'"
      ]
     },
     "execution_count": 8,
     "metadata": {},
     "output_type": "execute_result"
    }
   ],
   "source": [
    "s[::-1] #try to reverse a string without using reverse function"
   ]
  },
  {
   "cell_type": "code",
   "execution_count": 10,
   "id": "4f592f95-e6b4-4b43-919d-978da7d237d8",
   "metadata": {},
   "outputs": [
    {
     "data": {
      "text/plain": [
       "['THIS',\n",
       " 'IS',\n",
       " 'MY',\n",
       " 'FIRST',\n",
       " 'PYTHON',\n",
       " 'PROGRAMMING',\n",
       " 'CLASS',\n",
       " 'AND',\n",
       " 'I',\n",
       " 'AM',\n",
       " 'LEARNING',\n",
       " 'PYTHON',\n",
       " 'STRING',\n",
       " 'AND',\n",
       " 'ITS',\n",
       " 'FUNCTION']"
      ]
     },
     "execution_count": 10,
     "metadata": {},
     "output_type": "execute_result"
    }
   ],
   "source": [
    "s1 = s.upper() #try to split a string after conversion of entire string in uppercase\n",
    "s1.split()"
   ]
  },
  {
   "cell_type": "code",
   "execution_count": 13,
   "id": "b7fd87c8-61db-4b70-a708-6ce2e52557c7",
   "metadata": {},
   "outputs": [
    {
     "data": {
      "text/plain": [
       "['THIS',\n",
       " 'IS',\n",
       " 'MY',\n",
       " 'FIRST',\n",
       " 'PYTHON',\n",
       " 'PROGRAMMING',\n",
       " 'CLASS',\n",
       " 'AND',\n",
       " 'I',\n",
       " 'AM',\n",
       " 'LEARNING',\n",
       " 'PYTHON',\n",
       " 'STRING',\n",
       " 'AND',\n",
       " 'ITS',\n",
       " 'FUNCTION']"
      ]
     },
     "execution_count": 13,
     "metadata": {},
     "output_type": "execute_result"
    }
   ],
   "source": [
    "s.upper().split()"
   ]
  },
  {
   "cell_type": "code",
   "execution_count": 16,
   "id": "75db4791-7512-4c52-a2c0-e5ca9def1eab",
   "metadata": {},
   "outputs": [
    {
     "data": {
      "text/plain": [
       "'this is my first python programming class and i am learning python string and its function'"
      ]
     },
     "execution_count": 16,
     "metadata": {},
     "output_type": "execute_result"
    }
   ],
   "source": [
    "s.lower() #try to do lower the whole string"
   ]
  },
  {
   "cell_type": "code",
   "execution_count": 18,
   "id": "8e2841bb-3137-44f0-96b9-bbb5f89fca5d",
   "metadata": {},
   "outputs": [
    {
     "data": {
      "text/plain": [
       "'This is my first python programming class and i am learning python string and its function'"
      ]
     },
     "execution_count": 18,
     "metadata": {},
     "output_type": "execute_result"
    }
   ],
   "source": [
    "s.capitalize() #try to capatilize the whole string"
   ]
  },
  {
   "cell_type": "code",
   "execution_count": 19,
   "id": "94d0d6b3-1784-4933-a571-3cf8098a1793",
   "metadata": {},
   "outputs": [],
   "source": [
    "#6 write a diference between isalnum() and isalpha()"
   ]
  },
  {
   "cell_type": "code",
   "execution_count": 20,
   "id": "55b25321-694c-4fa7-b27a-feb7b7c46359",
   "metadata": {},
   "outputs": [],
   "source": [
    "# isalpha gives all the characters in the string are alphabets and isalnum give all the characters in the string are either alphabets and numbers"
   ]
  },
  {
   "cell_type": "code",
   "execution_count": 21,
   "id": "aadd6a2a-9615-446b-9342-4a3ba04113af",
   "metadata": {},
   "outputs": [],
   "source": [
    "#for example"
   ]
  },
  {
   "cell_type": "code",
   "execution_count": 28,
   "id": "9bda9b80-c1fc-4410-816f-a1929d9e7480",
   "metadata": {},
   "outputs": [],
   "source": [
    "test=\"abcde\"\n",
    "test1=\"abcd3\"\n",
    "test3=\"@$#@#@$@\""
   ]
  },
  {
   "cell_type": "code",
   "execution_count": 29,
   "id": "3756ba36-8f7c-439f-9fe6-dd2cbb0de205",
   "metadata": {},
   "outputs": [
    {
     "data": {
      "text/plain": [
       "True"
      ]
     },
     "execution_count": 29,
     "metadata": {},
     "output_type": "execute_result"
    }
   ],
   "source": [
    "test.isalpha()"
   ]
  },
  {
   "cell_type": "code",
   "execution_count": 30,
   "id": "ca9fd5bc-285b-4438-985c-889e2fd66755",
   "metadata": {},
   "outputs": [
    {
     "data": {
      "text/plain": [
       "True"
      ]
     },
     "execution_count": 30,
     "metadata": {},
     "output_type": "execute_result"
    }
   ],
   "source": [
    "test.isalnum()"
   ]
  },
  {
   "cell_type": "code",
   "execution_count": 31,
   "id": "f30f640d-3980-4169-ab81-e590afeb8a95",
   "metadata": {},
   "outputs": [
    {
     "data": {
      "text/plain": [
       "False"
      ]
     },
     "execution_count": 31,
     "metadata": {},
     "output_type": "execute_result"
    }
   ],
   "source": [
    "test1.isalpha()"
   ]
  },
  {
   "cell_type": "code",
   "execution_count": 32,
   "id": "46b96a6e-d442-42de-ba15-a3397b5941da",
   "metadata": {},
   "outputs": [
    {
     "data": {
      "text/plain": [
       "True"
      ]
     },
     "execution_count": 32,
     "metadata": {},
     "output_type": "execute_result"
    }
   ],
   "source": [
    "test1.isalnum()"
   ]
  },
  {
   "cell_type": "code",
   "execution_count": 33,
   "id": "2267d818-2ace-4759-9749-e75f829096c8",
   "metadata": {},
   "outputs": [
    {
     "data": {
      "text/plain": [
       "False"
      ]
     },
     "execution_count": 33,
     "metadata": {},
     "output_type": "execute_result"
    }
   ],
   "source": [
    "test3.isalnum()"
   ]
  },
  {
   "cell_type": "code",
   "execution_count": 34,
   "id": "523d3361-317e-405d-8387-516a5ff396e2",
   "metadata": {},
   "outputs": [
    {
     "data": {
      "text/plain": [
       "False"
      ]
     },
     "execution_count": 34,
     "metadata": {},
     "output_type": "execute_result"
    }
   ],
   "source": [
    "test3.isalpha()"
   ]
  },
  {
   "cell_type": "code",
   "execution_count": 35,
   "id": "897999cc-bdbc-4e04-9f8f-3a95f842bba0",
   "metadata": {},
   "outputs": [],
   "source": [
    "#7try to give an example of exlpand tab"
   ]
  },
  {
   "cell_type": "code",
   "execution_count": 83,
   "id": "315ab494-337a-4d13-b7dc-a76673b60578",
   "metadata": {},
   "outputs": [],
   "source": [
    "exp=\"This\\tis\\ta\\t example\""
   ]
  },
  {
   "cell_type": "code",
   "execution_count": 84,
   "id": "13986b0c-79ba-4e2e-91c2-02915bccfa80",
   "metadata": {},
   "outputs": [
    {
     "data": {
      "text/plain": [
       "'This    is      a        example'"
      ]
     },
     "execution_count": 84,
     "metadata": {},
     "output_type": "execute_result"
    }
   ],
   "source": [
    "exp.expandtabs()"
   ]
  },
  {
   "cell_type": "code",
   "execution_count": 85,
   "id": "86aa2fb5-2221-440b-9675-569b01e0bdfa",
   "metadata": {},
   "outputs": [
    {
     "data": {
      "text/plain": [
       "'This  is  a  example'"
      ]
     },
     "execution_count": 85,
     "metadata": {},
     "output_type": "execute_result"
    }
   ],
   "source": [
    "exp.expandtabs(2)"
   ]
  },
  {
   "cell_type": "code",
   "execution_count": 86,
   "id": "ae119366-ca97-44a2-9b8f-30d22e9c6f63",
   "metadata": {},
   "outputs": [
    {
     "data": {
      "text/plain": [
       "'This  is a   example'"
      ]
     },
     "execution_count": 86,
     "metadata": {},
     "output_type": "execute_result"
    }
   ],
   "source": [
    "exp.expandtabs(3)"
   ]
  },
  {
   "cell_type": "code",
   "execution_count": 87,
   "id": "05ad7dea-bf7c-4d3d-9dde-51626f5ad8a3",
   "metadata": {},
   "outputs": [],
   "source": [
    "#give an example of strip,lstrip and rstrip"
   ]
  },
  {
   "cell_type": "code",
   "execution_count": 88,
   "id": "4553660b-53b9-4fd9-870d-c0c98b2610fa",
   "metadata": {},
   "outputs": [],
   "source": [
    "a='  mit vpu  '"
   ]
  },
  {
   "cell_type": "code",
   "execution_count": 90,
   "id": "2ab2d4be-09e6-432b-bc18-fbe0b5f45bf6",
   "metadata": {},
   "outputs": [
    {
     "data": {
      "text/plain": [
       "'mit vpu'"
      ]
     },
     "execution_count": 90,
     "metadata": {},
     "output_type": "execute_result"
    }
   ],
   "source": [
    "a.strip()"
   ]
  },
  {
   "cell_type": "code",
   "execution_count": 91,
   "id": "de75c182-c0b5-4469-a2f5-511b9aef9cf7",
   "metadata": {},
   "outputs": [
    {
     "data": {
      "text/plain": [
       "'mit vpu  '"
      ]
     },
     "execution_count": 91,
     "metadata": {},
     "output_type": "execute_result"
    }
   ],
   "source": [
    "a.lstrip()"
   ]
  },
  {
   "cell_type": "code",
   "execution_count": 93,
   "id": "4ab86e26-2317-484c-9c24-f465ed9e5a36",
   "metadata": {},
   "outputs": [
    {
     "data": {
      "text/plain": [
       "'  mit vpu'"
      ]
     },
     "execution_count": 93,
     "metadata": {},
     "output_type": "execute_result"
    }
   ],
   "source": [
    "a.rstrip()"
   ]
  },
  {
   "cell_type": "code",
   "execution_count": 94,
   "id": "33993f65-9aa7-4582-8997-07131777d6bb",
   "metadata": {},
   "outputs": [],
   "source": [
    "#replace the name"
   ]
  },
  {
   "cell_type": "code",
   "execution_count": 96,
   "id": "eb0dc93f-80d6-45da-97e6-b9f785072b53",
   "metadata": {},
   "outputs": [],
   "source": [
    "name='Amir Rampure'"
   ]
  },
  {
   "cell_type": "code",
   "execution_count": 107,
   "id": "66fc1f1f-a366-45f8-b40f-8a7b07bbbd55",
   "metadata": {},
   "outputs": [
    {
     "data": {
      "text/plain": [
       "'mitvpu'"
      ]
     },
     "execution_count": 107,
     "metadata": {},
     "output_type": "execute_result"
    }
   ],
   "source": [
    "name.replace('Amir Rampure','mitvpu')"
   ]
  },
  {
   "cell_type": "code",
   "execution_count": null,
   "id": "54472d51-e561-4fc2-b2e5-20954ab50fb4",
   "metadata": {},
   "outputs": [],
   "source": []
  }
 ],
 "metadata": {
  "kernelspec": {
   "display_name": "Python 3 (ipykernel)",
   "language": "python",
   "name": "python3"
  },
  "language_info": {
   "codemirror_mode": {
    "name": "ipython",
    "version": 3
   },
   "file_extension": ".py",
   "mimetype": "text/x-python",
   "name": "python",
   "nbconvert_exporter": "python",
   "pygments_lexer": "ipython3",
   "version": "3.12.4"
  }
 },
 "nbformat": 4,
 "nbformat_minor": 5
}
